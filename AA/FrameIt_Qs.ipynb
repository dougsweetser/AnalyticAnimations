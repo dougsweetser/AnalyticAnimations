{
 "cells": [
  {
   "cell_type": "markdown",
   "metadata": {},
   "source": [
    "# FrameIt: Bin by the time value of a quaternion all positions in space"
   ]
  },
  {
   "cell_type": "markdown",
   "metadata": {},
   "source": [
    "What is the right relationship for time to space?\n",
    "\n",
    "Time is orthagonal to space. This means two opposite things. First, they are profoundly different. Therefore the way you keep track of them must be unambiguously different. Second, they have an intimate relationship, both need each other.\n",
    "\n",
    "Let's say one has a pile of quaternions that all have values that range from -1 to 1. How can this be graphed? It cannot be done in 3D space since a quaternion has 4 degrees of freedom. It can be done as a 3D animation. \n",
    "\n",
    "If one bin's the pile of quaternions by time, then each bin would represent the spatial information for that particular time window. The FrameIt class will take a quaternion series (many quaternions) and return a dictionary of frames. This satisfies the above guide about being orthogonal: a frame is not a location in space, but only a frame+spatial info can make a part of an animation."
   ]
  },
  {
   "cell_type": "code",
   "execution_count": 1,
   "metadata": {},
   "outputs": [],
   "source": [
    "import math\n",
    "import collections as co\n",
    "import numpy as np\n",
    "import sympy as sp\n",
    "import pandas as pd\n",
    "\n",
    "import unittest\n",
    "from bunch import Bunch\n",
    "\n",
    "# Tools for manipulating quaternions.\n",
    "from Qs import *"
   ]
  },
  {
   "cell_type": "markdown",
   "metadata": {},
   "source": [
    "Needed things:\n",
    "\n",
    "1. Start time int\n",
    "2. End Time int\n",
    "3. N frames\n",
    "4. M Q8States\n"
   ]
  },
  {
   "cell_type": "markdown",
   "metadata": {},
   "source": [
    "To do:\n",
    "Print out tx, ty, dz values."
   ]
  },
  {
   "cell_type": "code",
   "execution_count": 2,
   "metadata": {},
   "outputs": [],
   "source": [
    "class FrameIt(object):\n",
    "    \"\"\"Given a Qs, bins on time and write the values to a Dictionary.\"\"\"\n",
    "    \n",
    "    def __init__(self, states, start=0, end=0, frames=100, quiet=False):\n",
    "        \n",
    "        self.opt = Bunch()\n",
    "        self.opt.states = states\n",
    "        self.opt.start = 0\n",
    "        self.opt.end = 0\n",
    "        self.opt.frames = frames\n",
    "        self.opt.quiet = quiet\n",
    "        \n",
    "        # 2x the size but makes plots tx, ty, tz possible.\n",
    "        # self.txyz = states.txyz()\n",
    "        if (start == 0) and (end == 0):\n",
    "            self.opt.start = states.min.t\n",
    "            self.opt.end = states.max.t\n",
    "        \n",
    "        self.events = Bunch()\n",
    "        self.intervals = Bunch()\n",
    "        \n",
    "    def split_events(self, states=None, quiet=False):\n",
    "        \"\"\"Splits events into time and space arrays. Returns a pandas DataFrame\"\"\"\n",
    "            \n",
    "        if states is None:\n",
    "            states = self.opt.states\n",
    "            \n",
    "        states_t = states.t()\n",
    "        states_xyz = states.xyz()\n",
    "            \n",
    "        df_paired = pd.DataFrame([states_t, states_xyz], dtype=\"float\", index=[\"t\", \"xyz\"])\n",
    "        df_txyz = df_paired.T\n",
    "        \n",
    "        if not (quiet or self.opt.quiet):\n",
    "            print(\"t/xyz:\\n\", df_txyz)\n",
    " \n",
    "        return df_txyz\n",
    "            \n",
    "    def __get_time_frames(self):\n",
    "        \"\"\"A linear space for time frames, can be based on values passes or when instance created.\"\"\"\n",
    "        \n",
    "        t_frames = np.linspace(self.opt.start, self.opt.end, self.opt.frames)\n",
    "        \n",
    "        # Get all the intervals, needed to know which ones are empty, if any.\n",
    "        df_t_frames = pd.DataFrame(t_frames)\n",
    "        df_t_frames_cut = pd.cut(df_t_frames[0], t_frames, include_lowest=True)\n",
    "        df_t_frames_cut_array = df_t_frames_cut.tolist()\n",
    "        df_t_frames_cut_array.pop(0)\n",
    "        \n",
    "        for df_t_frame in df_t_frames_cut_array:\n",
    "            self.intervals[df_t_frame] = ''\n",
    "        \n",
    "        return t_frames\n",
    "    \n",
    "    def bin_events_by_time(self, df_txyz, quiet=False):\n",
    "        \"\"\"Given a DataFrame with time and xyz, returns the DataFrame with a t_frame variable set.\"\"\"            \n",
    "        \n",
    "        t_frames = self.__get_time_frames()\n",
    "        \n",
    "        df_txyz['t_frames'] = pd.cut(df_txyz.iloc[:, 0], t_frames, include_lowest=True)\n",
    "        \n",
    "        if not (quiet or self.opt.quiet):\n",
    "            print(\"t/xyz bins:\\n\", df_txyz)\n",
    "               \n",
    "        return df_txyz\n",
    "            \n",
    "    def space_bins(self, df_txyz, quiet=False):\n",
    "        \"\"\"Create a dictionary with locations all the locations in space, with blanks as needed.\"\"\"\n",
    " \n",
    "        space = co.OrderedDict()\n",
    "        \n",
    "        counts = Bunch()\n",
    "        counts.without_events = 0\n",
    "        counts.with_events = 0\n",
    "        counts.max_events = 0\n",
    "        \n",
    "        for i, interval in enumerate(self.intervals):\n",
    "             \n",
    "            if interval in df_txyz['t_frames'].values:\n",
    "            \n",
    "                events = df_txyz[df_txyz['t_frames'] == interval].iloc[:, 1].values\n",
    "                space[i] = events\n",
    "                counts.with_events += 1\n",
    "                \n",
    "                if len(events) > counts.max_events:\n",
    "                    counts.max_events = len(events)\n",
    "                    \n",
    "            else:\n",
    "                space[i] = ''\n",
    "                counts.without_events += 1\n",
    "\n",
    "        if not quiet or self.opt.quiet:\n",
    "            \n",
    "            for k, v in space.items():\n",
    "            \n",
    "                print(\"space_bins: {}/{}\".format(k, v))\n",
    "        \n",
    "        print(\"frames without events: {}\".format(counts.without_events))\n",
    "        print(\"frames with events: {}\".format(counts.with_events))\n",
    "        print(\"Max events in one frame: {}\".format(counts.max_events))\n",
    "        \n",
    "        return space\n",
    "    \n",
    "    def run(self):\n",
    "        \"\"\"Call functions to return dictionary of frames with locations in space.\"\"\"\n",
    "        \n",
    "        df_txyz = self.split_events()\n",
    "        self.bin_events_by_time(df_txyz)\n",
    "        return self.space_bins(df_txyz)\n",
    "        "
   ]
  },
  {
   "cell_type": "code",
   "execution_count": 3,
   "metadata": {},
   "outputs": [
    {
     "name": "stderr",
     "output_type": "stream",
     "text": [
      "...."
     ]
    },
    {
     "name": "stdout",
     "output_type": "stream",
     "text": [
      "t/xyz:\n",
      "    t          xyz\n",
      "0  1    [1, 3, 4]\n",
      "1  2  [2, -3, -4]\n",
      "2  3    [3, 3, 4]\n",
      "t/xyz bins:\n",
      "    t          xyz      t_frames\n",
      "0  1    [1, 3, 4]  (0.999, 2.0]\n",
      "1  2  [2, -3, -4]  (0.999, 2.0]\n",
      "2  3    [3, 3, 4]    (2.0, 3.0]\n",
      "space_bins: 0/[list([1, 3, 4])]\n",
      "space_bins: 1/\n",
      "space_bins: 2/[list([2, -3, -4])]\n",
      "space_bins: 3/\n",
      "space_bins: 4/\n",
      "space_bins: 5/[list([3, 3, 4]) list([-3, -3, -4])]\n",
      "space_bins: 6/\n",
      "space_bins: 7/\n",
      "space_bins: 8/[list([4, 3, 2])]\n",
      "frames without events: 5\n",
      "frames with events: 4\n",
      "Max events in one frame: 2\n"
     ]
    },
    {
     "name": "stderr",
     "output_type": "stream",
     "text": [
      "\n",
      "----------------------------------------------------------------------\n",
      "Ran 4 tests in 0.068s\n",
      "\n",
      "OK\n"
     ]
    }
   ],
   "source": [
    "class TestFrameIt(unittest.TestCase):\n",
    "    \n",
    "    q1 = Q([1, 1, 3, 4])\n",
    "    q2 = Q([2, 2, -3, -4])\n",
    "    q3 = Q([3, 3, 3, 4])\n",
    "    q4 = Q([4, 4, 3, 2])\n",
    "    tri_state = Qs([q1, q2, q3])\n",
    "    five_state = Qs([q1, q2, q3, q4, conj(q3)])\n",
    "    \n",
    "    def test_1000_opt(self):\n",
    "        FIt = FrameIt(self.tri_state)\n",
    "        self.assertTrue(FIt.opt.start == 1)\n",
    "        self.assertTrue(FIt.opt.end == 3)\n",
    "        self.assertTrue(FIt.opt.frames == 100)\n",
    "\n",
    "    def test_1100_split_events(self):\n",
    "        fi = FrameIt(self.tri_state)\n",
    "        df = fi.split_events()\n",
    "        self.assertTrue(df.iloc[0, 0] == 1.0)\n",
    "        self.assertTrue(df.iloc[1, 0] == 2.0)\n",
    "        self.assertTrue(df.iloc[2, 0] == 3.0)\n",
    "        \n",
    "    def test_1200_bin_events_by_time(self):    \n",
    "        fi = FrameIt(self.tri_state, frames=3)\n",
    "        df_split = fi.split_events(quiet=True)\n",
    "        df_bin = fi.bin_events_by_time(df_split)\n",
    "        self.assertTrue(df_bin.shape == (3, 3))\n",
    "        self.assertTrue(df_bin[['t_frames']].iloc[2,0] == pd.Interval(2.0, 3.0, closed='right'))\n",
    "     \n",
    "    def test_1300_space_bins(self):\n",
    "        fi = FrameIt(self.five_state, frames=10)\n",
    "        df_split = fi.split_events(quiet=True)\n",
    "        df_bin = fi.bin_events_by_time(df_split, quiet=True)\n",
    "        df_space_bins = fi.space_bins(df_bin)\n",
    "        self.assertTrue(len(df_space_bins[5]) == 2)\n",
    "        \n",
    "suite = unittest.TestLoader().loadTestsFromModule(TestFrameIt())\n",
    "unittest.TextTestRunner().run(suite);"
   ]
  },
  {
   "cell_type": "code",
   "execution_count": 10,
   "metadata": {},
   "outputs": [
    {
     "name": "stdout",
     "output_type": "stream",
     "text": [
      "[NbConvertApp] Converting notebook FrameIt_Qs.ipynb to python\n",
      "[NbConvertApp] Writing 7179 bytes to FrameIt_Qs.py\n"
     ]
    }
   ],
   "source": [
    "!jupyter nbconvert --to python FrameIt_Qs.ipynb"
   ]
  },
  {
   "cell_type": "code",
   "execution_count": null,
   "metadata": {},
   "outputs": [],
   "source": []
  },
  {
   "cell_type": "code",
   "execution_count": 5,
   "metadata": {},
   "outputs": [],
   "source": [
    "q1 = Q([1, 1, 3, 4])\n",
    "q2 = Q([2, 2, -3, -4])\n",
    "q3 = Q([0.3, 3, 3, 4])\n",
    "q4 = Q([4, 4, 3, 2])\n",
    "tri_state = Qs([q1, q2, q3])\n",
    "five_state = Qs([q1, q2, q3, q4, conj(q3)])"
   ]
  },
  {
   "cell_type": "code",
   "execution_count": 6,
   "metadata": {},
   "outputs": [
    {
     "data": {
      "text/html": [
       "<div>\n",
       "<style scoped>\n",
       "    .dataframe tbody tr th:only-of-type {\n",
       "        vertical-align: middle;\n",
       "    }\n",
       "\n",
       "    .dataframe tbody tr th {\n",
       "        vertical-align: top;\n",
       "    }\n",
       "\n",
       "    .dataframe thead th {\n",
       "        text-align: right;\n",
       "    }\n",
       "</style>\n",
       "<table border=\"1\" class=\"dataframe\">\n",
       "  <thead>\n",
       "    <tr style=\"text-align: right;\">\n",
       "      <th></th>\n",
       "      <th>t</th>\n",
       "      <th>x</th>\n",
       "      <th>y</th>\n",
       "      <th>z</th>\n",
       "    </tr>\n",
       "  </thead>\n",
       "  <tbody>\n",
       "    <tr>\n",
       "      <th>0</th>\n",
       "      <td>1.0</td>\n",
       "      <td>1.0</td>\n",
       "      <td>3.0</td>\n",
       "      <td>4.0</td>\n",
       "    </tr>\n",
       "    <tr>\n",
       "      <th>1</th>\n",
       "      <td>2.0</td>\n",
       "      <td>2.0</td>\n",
       "      <td>-3.0</td>\n",
       "      <td>-4.0</td>\n",
       "    </tr>\n",
       "    <tr>\n",
       "      <th>2</th>\n",
       "      <td>0.3</td>\n",
       "      <td>3.0</td>\n",
       "      <td>3.0</td>\n",
       "      <td>4.0</td>\n",
       "    </tr>\n",
       "  </tbody>\n",
       "</table>\n",
       "</div>"
      ],
      "text/plain": [
       "     t    x    y    z\n",
       "0  1.0  1.0  3.0  4.0\n",
       "1  2.0  2.0 -3.0 -4.0\n",
       "2  0.3  3.0  3.0  4.0"
      ]
     },
     "execution_count": 6,
     "metadata": {},
     "output_type": "execute_result"
    }
   ],
   "source": [
    "Qs([q1, q2, q3]).df"
   ]
  },
  {
   "cell_type": "code",
   "execution_count": 7,
   "metadata": {},
   "outputs": [
    {
     "data": {
      "text/plain": [
       "array([0.        , 0.55555556, 1.11111111, 1.66666667, 2.22222222,\n",
       "       2.77777778, 3.33333333, 3.88888889, 4.44444444, 5.        ])"
      ]
     },
     "execution_count": 7,
     "metadata": {},
     "output_type": "execute_result"
    }
   ],
   "source": [
    "t_frames = np.linspace(0, 5, 10)\n",
    "t_frames"
   ]
  },
  {
   "cell_type": "code",
   "execution_count": 8,
   "metadata": {},
   "outputs": [
    {
     "data": {
      "text/plain": [
       "0     (0.556, 1.111]\n",
       "1     (1.667, 2.222]\n",
       "2    (-0.001, 0.556]\n",
       "Name: t, dtype: category\n",
       "Categories (9, interval[float64]): [(-0.001, 0.556] < (0.556, 1.111] < (1.111, 1.667] < (1.667, 2.222] ... (2.778, 3.333] < (3.333, 3.889] < (3.889, 4.444] < (4.444, 5.0]]"
      ]
     },
     "execution_count": 8,
     "metadata": {},
     "output_type": "execute_result"
    }
   ],
   "source": [
    "pd.cut(tri_state.df.iloc[:, 0], t_frames, include_lowest=True)"
   ]
  },
  {
   "cell_type": "code",
   "execution_count": 9,
   "metadata": {},
   "outputs": [
    {
     "name": "stdout",
     "output_type": "stream",
     "text": [
      "5 state\n",
      "n=1: (1, 1, 3, 4) \n",
      "n=2: (2, 2, -3, -4) \n",
      "n=3: (0.3, 3.0, 3.0, 4.0) \n",
      "n=4: (4, 4, 3, 2) \n",
      "n=5: (0.3, -3.0, -3.0, -4.0) \n",
      "ket: 5/1\n",
      "\n"
     ]
    }
   ],
   "source": [
    "five_state.print_state(\"5 state\")"
   ]
  },
  {
   "cell_type": "code",
   "execution_count": null,
   "metadata": {},
   "outputs": [],
   "source": []
  }
 ],
 "metadata": {
  "kernelspec": {
   "display_name": "Python 3",
   "language": "python",
   "name": "python3"
  },
  "language_info": {
   "codemirror_mode": {
    "name": "ipython",
    "version": 3
   },
   "file_extension": ".py",
   "mimetype": "text/x-python",
   "name": "python",
   "nbconvert_exporter": "python",
   "pygments_lexer": "ipython3",
   "version": "3.8.8"
  }
 },
 "nbformat": 4,
 "nbformat_minor": 4
}
